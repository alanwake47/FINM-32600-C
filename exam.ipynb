{
 "cells": [
  {
   "attachments": {},
   "cell_type": "markdown",
   "metadata": {},
   "source": [
    "Pointers and references are C++ constructs used for referencing variables and objects, but they have some key differences:\n",
    "\n",
    "Similarities:\n",
    "\n",
    "Both pointers and references allow indirect access to objects.\n",
    "Both can be used to modify the object they reference.\n",
    "Differences:\n",
    "\n",
    "Pointers are objects in their own right, whereas references are not.\n",
    "Once a reference is initialized to an object, it cannot be changed to refer to another object, whereas a pointer can be reassigned to point to another object at any time.\n",
    "You cannot have a null reference, whereas a pointer can be null.\n",
    "A reference must be initialized when it is created, whereas a pointer can be initialized at any time.\n",
    "In conclusion, references are generally easier to use, safer and more convenient than pointers, but pointers offer more flexibility and are essential in certain situations where references are not suitable, such as dynamically allocating memory."
   ]
  },
  {
   "cell_type": "code",
   "execution_count": null,
   "metadata": {},
   "outputs": [],
   "source": [
    "#include <iostream>\n",
    "using namespace std;\n",
    "x\n",
    "int main() {\n",
    "    // Write a program that asks the user for a number and returns if it is prime or not\n",
    "    // A prime number is a number that is only divisible by 1 and itself\n",
    "    cout << \"Enter a number: \" << endl;\n",
    "    int number;\n",
    "    cin >> number;\n",
    "\n",
    "    int counter = 0;\n",
    "    for (int i = 1; i <= number; i++) {\n",
    "        if (number % i == 0) {\n",
    "            counter++;\n",
    "        }\n",
    "    }\n",
    "    if (counter == 2) {\n",
    "        cout << \"The number is prime\" << endl;\n",
    "    } else {\n",
    "        cout << \"The number is not prime\" << endl;\n",
    "    }\n",
    "    \n",
    "    return 0;\n",
    "}"
   ]
  },
  {
   "attachments": {},
   "cell_type": "markdown",
   "metadata": {},
   "source": [
    "In C++, a struct is similar to a class, but with the following differences:\n",
    "\n",
    "By default, members of a struct are public, while members of a class are private.\n",
    "Inheritance is public by default in structs, while in classes it's private by default.\n",
    "Include guards are preprocessor directives in C++ used to prevent multiple inclusions of the same header file. They work by defining a unique identifier for the header file, and using a series of #ifndef, #define, and #endif statements to ensure that the contents of the header file are only included once in the final output."
   ]
  },
  {
   "cell_type": "code",
   "execution_count": 1,
   "metadata": {},
   "outputs": [
    {
     "ename": "SyntaxError",
     "evalue": "invalid syntax (2792825886.py, line 4)",
     "output_type": "error",
     "traceback": [
      "\u001b[0;36m  Input \u001b[0;32mIn [1]\u001b[0;36m\u001b[0m\n\u001b[0;31m    // Header file contents\u001b[0m\n\u001b[0m    ^\u001b[0m\n\u001b[0;31mSyntaxError\u001b[0m\u001b[0;31m:\u001b[0m invalid syntax\n"
     ]
    }
   ],
   "source": [
    "#ifndef HEADER_FILE_H\n",
    "#define HEADER_FILE_H\n",
    "\n",
    "// Header file contents\n",
    "\n",
    "#endif\n"
   ]
  },
  {
   "attachments": {},
   "cell_type": "markdown",
   "metadata": {},
   "source": [
    "Assigning an object to itself, such as c1 = c1;, has no effect on the object and is generally considered to be redundant and unnecessary. This operation is inefficient because it consumes processing time and memory without producing any useful result.\n",
    "\n",
    "In some cases, self-assignment can also be dangerous. For example, if the assignment operator of the class is not properly implemented, it could cause memory leaks or data corruption. To avoid this, it's recommended to write the assignment operator in such a way that it can detect self-assignment and handle it properly.\n",
    "\n",
    "To detect self-assignment, one common approach is to check if the address of the source object is the same as the address of the target object, like so:"
   ]
  },
  {
   "cell_type": "code",
   "execution_count": null,
   "metadata": {},
   "outputs": [],
   "source": [
    "MyClass& operator=(const MyClass& other)\n",
    "{\n",
    "  if (this == &other) \n",
    "  {\n",
    "    return *this;\n",
    "  }\n",
    "  // Perform actual assignment\n",
    "  // ...\n",
    "  return *this;\n",
    "}\n",
    "\n",
    "\n",
    "Currency& Currency::operator=(const Currency& other)\n",
    "   {\n",
    "      if (this != &other)\n",
    "      {\n",
    "          symbol_           =  other.symbol_;\n",
    "          exchange_rate_  =  other.exchange_rate_;\n",
    "}\n",
    "      return *this;\n",
    "   }"
   ]
  }
 ],
 "metadata": {
  "kernelspec": {
   "display_name": "base",
   "language": "python",
   "name": "python3"
  },
  "language_info": {
   "codemirror_mode": {
    "name": "ipython",
    "version": 3
   },
   "file_extension": ".py",
   "mimetype": "text/x-python",
   "name": "python",
   "nbconvert_exporter": "python",
   "pygments_lexer": "ipython3",
   "version": "3.9.13"
  },
  "orig_nbformat": 4,
  "vscode": {
   "interpreter": {
    "hash": "3aebcf67cc29b314be79f51fd8d1736517ecad5ca0a5890edf173d6fd802b996"
   }
  }
 },
 "nbformat": 4,
 "nbformat_minor": 2
}
